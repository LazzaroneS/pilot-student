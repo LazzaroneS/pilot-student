{
 "cells": [
  {
   "cell_type": "markdown",
   "metadata": {},
   "source": [
    "# 有限状态机"
   ]
  },
  {
   "cell_type": "markdown",
   "metadata": {},
   "source": [
    "有限状态机（*finite state machine*，简称 *FSM*），有时也被称为 *finite state automation*，有时就简单地叫 *state machine*，不属于一看就知道大概是什么的概念（这一点和前面我们讲过的都不一样）。有限状态机有相当深刻的理论背景，算是比较高级的东西了，很多程序员别说学校里，工作十年可能都没碰过这东西，但其实真的不难理解，而且学会了就爱不释手，因为它解决某些问题真是太好用了。"
   ]
  },
  {
   "cell_type": "markdown",
   "metadata": {},
   "source": [
    "## 什么是有限状态机"
   ]
  },
  {
   "cell_type": "markdown",
   "metadata": {},
   "source": [
    "其实我们身边到处都是“有限状态机”的例子，最简单的一个是灯：灯有两种状态：“亮”和“熄”，灯可以从一种状态变成另一种，“亮”的状态下接收到“关”的指令就会变成“熄”，“熄”的状态下接收到“开”的指令就会变成“亮”，就像下图这样："
   ]
  },
  {
   "cell_type": "markdown",
   "metadata": {},
   "source": [
    "<img src=\"assets/fsm-1.png\" width=\"360\">"
   ]
  },
  {
   "cell_type": "markdown",
   "metadata": {},
   "source": [
    "在这个图里，圆圈表示“状态（*state*）”，箭头代表状态间可以发生的“转换（*transition*）”，而箭头上标注的文字代表触发状态转换的“输入（*input*）”。这基本上就是状态机的三大要件了。\n",
    "\n",
    "灯只有两个状态，不算很有意思，我们可以再看一个常见的例子：红绿灯，我们熟知的红绿灯的颜色按照“绿 -> 黄 -> 红 -> 绿”这样的顺序循环变化——嗯，我知道有的还有“绿灯闪烁”之类的状态，不过我们这里简化一下，用有限状态机来描述大致如下图："
   ]
  },
  {
   "cell_type": "markdown",
   "metadata": {},
   "source": [
    "<img src=\"assets/fsm-2.png\" width=\"500\">"
   ]
  },
  {
   "cell_type": "markdown",
   "metadata": {},
   "source": [
    "这里：\n",
    "* 有三种状态：绿，黄，红；\n",
    "* 状态转换是受限的，绿只能转黄，黄只能转红，红只能转绿；诸如黄转绿这样的状态转换是不允许的；\n",
    "* 状态转换的输入条件很简单，接收到 1 就转换到下一个状态。"
   ]
  },
  {
   "cell_type": "markdown",
   "metadata": {},
   "source": [
    "所以简单来说，有限状态机就是一台包含了预先定义好的一组状态的机器，当机器接收到一个指令，就根据指令内容查一张预先定义好的表：\n",
    "1. 检查当前状态是否接受这个指令；\n",
    "2. 如果不接受，那就当无事发生；\n",
    "3. 如果接受，再检查表中“当前状态x该指令”对应的目标状态是什么，然后把机器状态转换为目标状态。\n",
    "\n",
    "至于何时发送指令给状态机，是由外部系统决定的，比如红绿灯的例子里，外部系统是几个定时器，时间到了就发信号给有限状态机切换状态。\n",
    "\n",
    "有了现实生活中的例子打底，我们现在可以来看看抽象的“有限状态机（*FSM*）”是怎么定义的了。"
   ]
  },
  {
   "cell_type": "markdown",
   "metadata": {},
   "source": [
    "<img src=\"assets/fsm-3.png\">"
   ]
  },
  {
   "cell_type": "markdown",
   "metadata": {},
   "source": [
    "如上如所示，每一个 *FSM* 都包含五个要素：\n",
    "* *Q* 包含了有限个状态（*states*）的集合；\n",
    "* *Σ* 包含了有限个、非空的有效输入（*input*）的集合；\n",
    "* *δ* 一系列转换函数（*transition functions*），定义了什么样的当前状态结合什么输入可以变成什么目标状态，通常可以定义为一张二维表（见上图）；\n",
    "* *q<sub>0</sub>* 起始状态，并不是所有 *FSM* 都关心起始状态，比如红绿灯就无所谓起始状态；\n",
    "* *F* 包含了所有“结束状态（*final states*）”的集合，这个名字容易误解，它的作用和有限状态机的具体类型及面对的问题有关，我们可以简单理解为“标记出来有特别含义的状态的集合”就可以了，注意这个集合可以是空的。"
   ]
  },
  {
   "cell_type": "markdown",
   "metadata": {},
   "source": [
    "以上图所示的 *FSM* 为例，\n",
    "* 这个 *FSM* 有四个有效状态，*Q = { A, B C, D}*；\n",
    "* 这个 *FSM* 只接受两个合法输入，*Σ = { 0, 1 }*；\n",
    "* 当这个 *FSM* 接收到输入时，不在 *Σ = { 0, 1 }* 中的输入会被丢弃；如果输入在 *Σ* 中（是 *0* 或者 *1*），就查 *δ* 表，看看当前状态对应行和输入对应列的交叉点是什么状态，比如当前状态是 *A*，输入是 *1*，那么对应状态为 *C*，也就是说应该转换到状态 *C*。\n",
    "* 起始状态 *q<sub>0</sub> = A* 和结束状态集 *F = { D }* 这两个对某些 *FSM* 来说很重要，比如正则表达式。\n",
    "\n",
    "> 正则表达式对应一大类有限状态机，主要用来解决“在一系列输入之后是什么状态”的问题，通过回答这个问题来判断输入序列是不是我们想要的，或者输入序列属于什么分类，这种状态机有很深刻的理论背景，有兴趣的话可以读一下计算理论（*computation theory*）的经典教材，比如[这本](https://www.amazon.com/Introduction-Theory-Computation-Michael-Sipser/dp/113318779X)；这类状态机还被广泛应用于人工智能（比如图像识别算法）中。"
   ]
  },
  {
   "cell_type": "markdown",
   "metadata": {},
   "source": [
    "在计算机编程领域 *FSM* 最广泛的应用之一是流程和行为控制（*flow and behavior control*），简单说就是管理：\n",
    "* 在某个状态下什么能做什么不能做；\n",
    "* 做了什么会变成另外的什么状态。\n",
    "\n",
    "游戏里[玩家行为控制](https://gameprogrammingpatterns.com/state.html)、[NPC（*non-player character*，非玩家角色）的 AI](https://gamedevelopment.tutsplus.com/tutorials/finite-state-machines-theory-and-implementation--gamedev-11867)、剧情任务流程等都是用 *FSM* 来实现的；所有的[工作流系统](http://b.xfreeservice.com/redir/clickGate.php?u=8otB939m&m=12&p=3b121G4eNI&t=33&splash=0&s=&q=state%20machine%20workflow&url=https%3A%2F%2Fdocs.microsoft.com%2Fen-us%2Fdotnet%2Fframework%2Fwindows-workflow-foundation%2Fstate-machine-workflows)都包含 *FSM*；还有电商核心系统之一的“订单系统”（*order system*）。\n",
    "\n",
    "我们用过淘宝都知道，一个订单从创建开始要经历好几个状态，中间也有不同的操作可以进行，下面是一个比较典型的流程设计，经过一定简化，并以“状态”的主视角来描绘："
   ]
  },
  {
   "cell_type": "markdown",
   "metadata": {},
   "source": [
    "<img src=\"assets/fsm-4.png\">"
   ]
  },
  {
   "cell_type": "markdown",
   "metadata": {},
   "source": [
    "图中圆边的矩形代表状态，最上面一排是“正常”的状态和流程；第二排的矩形则表示一些“逆向”子流程，通常是由用户或客户发起的特殊操作，这些操作会带来其他一些订单状态，为了简单起见没有在这里展开。"
   ]
  },
  {
   "cell_type": "markdown",
   "metadata": {},
   "source": [
    "流程说明：\n",
    "* 当买家点击下单时订单生成，处于“已创建”状态；\n",
    "* 这个状态下的正常操作是“支付”，如果输入“支付成功”会进入下一个状态“已支付”，“支付失败”或者没有任何操作则停在本状态；\n",
    "* 这个状态下其他可选操作包括“修改”、“取消”等，分别会去到订单修改和订单取消子流程（这里略去细节）；\n",
    "* 支付成功后进入处于“已支付”状态；\n",
    "* 这个状态下需要等待商家发货，商家输入“已发货”会进入下一个状态“配送中”；\n",
    "* 这个状态下不能修改订单了，但仍然可以取消订单；\n",
    "* 商家发货后进入“配送中”状态；\n",
    "* 当配送到货，买家签收成功输入则进入下一个状态“已签收”；如果配送失败（买家不在家之类的情况）则留在“配送中”状态（另外择时重新送货）；\n",
    "* 这个状态下已不能修改和取消订单，但是可以发起退货申请，进入退货子流程（这里略去细节）；\n",
    "* 买家签收后进入“已签收”状态；\n",
    "* 买家满意，确认订单完成则进入最后状态“已完成”，订单生命周期结束；\n",
    "* 否则买家可以发起退货进入退货子流程（略）。\n",
    "\n",
    "从这里我们可以看到，实际业务系统中状态和转换的规则相当复杂（我们这还是大大简化的版本），每个状态下允许的操作和可能转换的下一个状态都是严格受控的，现在我们思考一下，我们可以如何用程序来实现这样的流程呢？"
   ]
  },
  {
   "cell_type": "markdown",
   "metadata": {},
   "source": [
    "## 利用有限状态机编写易于维护的代码"
   ]
  },
  {
   "cell_type": "markdown",
   "metadata": {},
   "source": [
    "回忆我们之前提到的，流程和行为控制（*flow and behavior control*）的关键是管理：\n",
    "* 在某个状态下什么能做什么不能做；\n",
    "* 做了什么会变成另外的什么状态。\n",
    "\n",
    "最简单直接的办法就是书写一堆 `if...else` 的判断规则，大致会是这个样子："
   ]
  },
  {
   "cell_type": "code",
   "execution_count": 2,
   "metadata": {},
   "outputs": [
    {
     "name": "stdout",
     "output_type": "stream",
     "text": [
      "Help on class Machine in module transitions.core:\n",
      "\n",
      "class Machine(builtins.object)\n",
      " |  Machine(model='self', states=None, initial='initial', transitions=None, send_event=False, auto_transitions=True, ordered_transitions=False, ignore_invalid_triggers=None, before_state_change=None, after_state_change=None, name=None, queued=False, prepare_event=None, finalize_event=None, model_attribute='state', **kwargs)\n",
      " |  \n",
      " |  Machine manages states, transitions and models. In case it is initialized without a specific model\n",
      " |  (or specifically no model), it will also act as a model itself. Machine takes also care of decorating\n",
      " |  models with conveniences functions related to added transitions and states during runtime.\n",
      " |  \n",
      " |  Attributes:\n",
      " |      states (OrderedDict): Collection of all registered states.\n",
      " |      events (dict): Collection of transitions ordered by trigger/event.\n",
      " |      models (list): List of models attached to the machine.\n",
      " |      initial (str): Name of the initial state for new models.\n",
      " |      prepare_event (list): Callbacks executed when an event is triggered.\n",
      " |      before_state_change (list): Callbacks executed after condition checks but before transition is conducted.\n",
      " |          Callbacks will be executed BEFORE the custom callbacks assigned to the transition.\n",
      " |      after_state_change (list): Callbacks executed after the transition has been conducted.\n",
      " |          Callbacks will be executed AFTER the custom callbacks assigned to the transition.\n",
      " |      finalize_event (list): Callbacks will be executed after all transitions callbacks have been executed.\n",
      " |          Callbacks mentioned here will also be called if a transition or condition check raised an error.\n",
      " |      queued (bool): Whether transitions in callbacks should be executed immediately (False) or sequentially.\n",
      " |      send_event (bool): When True, any arguments passed to trigger methods will be wrapped in an EventData\n",
      " |          object, allowing indirect and encapsulated access to data. When False, all positional and keyword\n",
      " |          arguments will be passed directly to all callback methods.\n",
      " |      auto_transitions (bool):  When True (default), every state will automatically have an associated\n",
      " |          to_{state}() convenience trigger in the base model.\n",
      " |      ignore_invalid_triggers (bool): When True, any calls to trigger methods that are not valid for the\n",
      " |          present state (e.g., calling an a_to_b() trigger when the current state is c) will be silently\n",
      " |          ignored rather than raising an invalid transition exception.\n",
      " |      name (str): Name of the ``Machine`` instance mainly used for easier log message distinction.\n",
      " |  \n",
      " |  Methods defined here:\n",
      " |  \n",
      " |  __getattr__(self, name)\n",
      " |  \n",
      " |  __init__(self, model='self', states=None, initial='initial', transitions=None, send_event=False, auto_transitions=True, ordered_transitions=False, ignore_invalid_triggers=None, before_state_change=None, after_state_change=None, name=None, queued=False, prepare_event=None, finalize_event=None, model_attribute='state', **kwargs)\n",
      " |      Args:\n",
      " |          model (object or list): The object(s) whose states we want to manage. If 'self',\n",
      " |              the current Machine instance will be used the model (i.e., all\n",
      " |              triggering events will be attached to the Machine itself). Note that an empty list\n",
      " |              is treated like no model.\n",
      " |          states (list or Enum): A list or enumeration of valid states. Each list element can be either a\n",
      " |              string, an enum member or a State instance. If string or enum member, a new generic State\n",
      " |              instance will be created that is named according to the string or enum member's name.\n",
      " |          initial (str, Enum or State): The initial state of the passed model[s].\n",
      " |          transitions (list): An optional list of transitions. Each element\n",
      " |              is a dictionary of named arguments to be passed onto the\n",
      " |              Transition initializer.\n",
      " |          send_event (boolean): When True, any arguments passed to trigger\n",
      " |              methods will be wrapped in an EventData object, allowing\n",
      " |              indirect and encapsulated access to data. When False, all\n",
      " |              positional and keyword arguments will be passed directly to all\n",
      " |              callback methods.\n",
      " |          auto_transitions (boolean): When True (default), every state will\n",
      " |              automatically have an associated to_{state}() convenience\n",
      " |              trigger in the base model.\n",
      " |          ordered_transitions (boolean): Convenience argument that calls\n",
      " |              add_ordered_transitions() at the end of initialization if set\n",
      " |              to True.\n",
      " |          ignore_invalid_triggers: when True, any calls to trigger methods\n",
      " |              that are not valid for the present state (e.g., calling an\n",
      " |              a_to_b() trigger when the current state is c) will be silently\n",
      " |              ignored rather than raising an invalid transition exception.\n",
      " |          before_state_change: A callable called on every change state before\n",
      " |              the transition happened. It receives the very same args as normal\n",
      " |              callbacks.\n",
      " |          after_state_change: A callable called on every change state after\n",
      " |              the transition happened. It receives the very same args as normal\n",
      " |              callbacks.\n",
      " |          name: If a name is set, it will be used as a prefix for logger output\n",
      " |          queued (boolean): When True, processes transitions sequentially. A trigger\n",
      " |              executed in a state callback function will be queued and executed later.\n",
      " |              Due to the nature of the queued processing, all transitions will\n",
      " |              _always_ return True since conditional checks cannot be conducted at queueing time.\n",
      " |          prepare_event: A callable called on for before possible transitions will be processed.\n",
      " |              It receives the very same args as normal callbacks.\n",
      " |          finalize_event: A callable called on for each triggered event after transitions have been processed.\n",
      " |              This is also called when a transition raises an exception.\n",
      " |      \n",
      " |          **kwargs additional arguments passed to next class in MRO. This can be ignored in most cases.\n",
      " |  \n",
      " |  add_model(self, model, initial=None)\n",
      " |      Register a model with the state machine, initializing triggers and callbacks.\n",
      " |  \n",
      " |  add_ordered_transitions(self, states=None, trigger='next_state', loop=True, loop_includes_initial=True, conditions=None, unless=None, before=None, after=None, prepare=None, **kwargs)\n",
      " |      Add a set of transitions that move linearly from state to state.\n",
      " |      Args:\n",
      " |          states (list): A list of state names defining the order of the\n",
      " |              transitions. E.g., ['A', 'B', 'C'] will generate transitions\n",
      " |              for A --> B, B --> C, and C --> A (if loop is True). If states\n",
      " |              is None, all states in the current instance will be used.\n",
      " |          trigger (str): The name of the trigger method that advances to\n",
      " |              the next state in the sequence.\n",
      " |          loop (boolean): Whether or not to add a transition from the last\n",
      " |              state to the first state.\n",
      " |          loop_includes_initial (boolean): If no initial state was defined in\n",
      " |              the machine, setting this to True will cause the _initial state\n",
      " |              placeholder to be included in the added transitions.\n",
      " |          conditions (str or list): Condition(s) that must pass in order\n",
      " |              for the transition to take place. Either a list providing the\n",
      " |              name of a callable, or a list of callables. For the transition\n",
      " |              to occur, ALL callables must return True.\n",
      " |          unless (str or list): Condition(s) that must return False in order\n",
      " |              for the transition to occur. Behaves just like conditions arg\n",
      " |              otherwise.\n",
      " |          before (str or list): Callables to call before the transition.\n",
      " |          after (str or list): Callables to call after the transition.\n",
      " |          prepare (str or list): Callables to call when the trigger is activated\n",
      " |          **kwargs: Additional arguments which can be passed to the created transition.\n",
      " |              This is useful if you plan to extend Machine.Transition and require more parameters.\n",
      " |  \n",
      " |  add_state(self, *args, **kwargs)\n",
      " |      Alias for add_states.\n",
      " |  \n",
      " |  add_states(self, states, on_enter=None, on_exit=None, ignore_invalid_triggers=None, **kwargs)\n",
      " |      Add new state(s).\n",
      " |      Args:\n",
      " |          states (list, str, dict, Enum or State): a list, a State instance, the\n",
      " |              name of a new state, an enumeration (member) or a dict with keywords to pass on to the\n",
      " |              State initializer. If a list, each element can be a string, State or enumeration member.\n",
      " |          on_enter (str or list): callbacks to trigger when the state is\n",
      " |              entered. Only valid if first argument is string.\n",
      " |          on_exit (str or list): callbacks to trigger when the state is\n",
      " |              exited. Only valid if first argument is string.\n",
      " |          ignore_invalid_triggers: when True, any calls to trigger methods\n",
      " |              that are not valid for the present state (e.g., calling an\n",
      " |              a_to_b() trigger when the current state is c) will be silently\n",
      " |              ignored rather than raising an invalid transition exception.\n",
      " |              Note that this argument takes precedence over the same\n",
      " |              argument defined at the Machine level, and is in turn\n",
      " |              overridden by any ignore_invalid_triggers explicitly\n",
      " |              passed in an individual state's initialization arguments.\n",
      " |      \n",
      " |          **kwargs additional keyword arguments used by state mixins.\n",
      " |  \n",
      " |  add_transition(self, trigger, source, dest, conditions=None, unless=None, before=None, after=None, prepare=None, **kwargs)\n",
      " |      Create a new Transition instance and add it to the internal list.\n",
      " |      Args:\n",
      " |          trigger (str): The name of the method that will trigger the\n",
      " |              transition. This will be attached to the currently specified\n",
      " |              model (e.g., passing trigger='advance' will create a new\n",
      " |              advance() method in the model that triggers the transition.)\n",
      " |          source(str or list): The name of the source state--i.e., the state we\n",
      " |              are transitioning away from. This can be a single state, a\n",
      " |              list of states or an asterisk for all states.\n",
      " |          dest (str): The name of the destination State--i.e., the state\n",
      " |              we are transitioning into. This can be a single state or an\n",
      " |              equal sign to specify that the transition should be reflexive\n",
      " |              so that the destination will be the same as the source for\n",
      " |              every given source. If dest is None, this transition will be\n",
      " |              an internal transition (exit/enter callbacks won't be processed).\n",
      " |          conditions (str or list): Condition(s) that must pass in order\n",
      " |              for the transition to take place. Either a list providing the\n",
      " |              name of a callable, or a list of callables. For the transition\n",
      " |              to occur, ALL callables must return True.\n",
      " |          unless (str or list): Condition(s) that must return False in order\n",
      " |              for the transition to occur. Behaves just like conditions arg\n",
      " |              otherwise.\n",
      " |          before (str or list): Callables to call before the transition.\n",
      " |          after (str or list): Callables to call after the transition.\n",
      " |          prepare (str or list): Callables to call when the trigger is activated\n",
      " |          **kwargs: Additional arguments which can be passed to the created transition.\n",
      " |              This is useful if you plan to extend Machine.Transition and require more parameters.\n",
      " |  \n",
      " |  add_transitions(self, transitions)\n",
      " |      Add several transitions.\n",
      " |      \n",
      " |      Args:\n",
      " |          transitions (list): A list of transitions.\n",
      " |  \n",
      " |  callback(self, func, event_data)\n",
      " |      Trigger a callback function with passed event_data parameters. In case func is a string,\n",
      " |          the callable will be resolved from the passed model in event_data. This function is not intended to\n",
      " |          be called directly but through state and transition callback definitions.\n",
      " |      Args:\n",
      " |          func (str or callable): The callback function.\n",
      " |              1. First, if the func is callable, just call it\n",
      " |              2. Second, we try to import string assuming it is a path to a func\n",
      " |              3. Fallback to a model attribute\n",
      " |          event_data (EventData): An EventData instance to pass to the\n",
      " |              callback (if event sending is enabled) or to extract arguments\n",
      " |              from (if event sending is disabled).\n",
      " |  \n",
      " |  dispatch(self, trigger, *args, **kwargs)\n",
      " |      Trigger an event on all models assigned to the machine.\n",
      " |      Args:\n",
      " |          trigger (str): Event name\n",
      " |          *args (list): List of arguments passed to the event trigger\n",
      " |          **kwargs (dict): Dictionary of keyword arguments passed to the event trigger\n",
      " |      Returns:\n",
      " |          bool The truth value of all triggers combined with AND\n",
      " |  \n",
      " |  get_model_state(self, model)\n",
      " |  \n",
      " |  get_state(self, state)\n",
      " |      Return the State instance with the passed name.\n",
      " |  \n",
      " |  get_transitions(self, trigger='', source='*', dest='*')\n",
      " |      Return the transitions from the Machine.\n",
      " |      Args:\n",
      " |          trigger (str): Trigger name of the transition.\n",
      " |          source (str): Limits removal to transitions from a certain state.\n",
      " |          dest (str): Limits removal to transitions to a certain state.\n",
      " |  \n",
      " |  get_triggers(self, *args)\n",
      " |      Collects all triggers FROM certain states.\n",
      " |      Args:\n",
      " |          *args: Tuple of source states.\n",
      " |      \n",
      " |      Returns:\n",
      " |          list of transition/trigger names.\n",
      " |  \n",
      " |  is_state(self, state, model)\n",
      " |      Check whether the current state matches the named state. This function is not called directly\n",
      " |          but assigned as partials to model instances (e.g. is_A -> partial(_is_state, 'A', model)).\n",
      " |      Args:\n",
      " |          state (str): name of the checked state\n",
      " |          model: model to be checked\n",
      " |      Returns:\n",
      " |          bool: Whether the model's current state is state.\n",
      " |  \n",
      " |  remove_model(self, model)\n",
      " |      Remove a model from the state machine. The model will still contain all previously added triggers\n",
      " |      and callbacks, but will not receive updates when states or transitions are added to the Machine.\n",
      " |  \n",
      " |  remove_transition(self, trigger, source='*', dest='*')\n",
      " |      Removes a transition from the Machine and all models.\n",
      " |      Args:\n",
      " |          trigger (str): Trigger name of the transition.\n",
      " |          source (str): Limits removal to transitions from a certain state.\n",
      " |          dest (str): Limits removal to transitions to a certain state.\n",
      " |  \n",
      " |  set_state(self, state, model=None)\n",
      " |          Set the current state.\n",
      " |      Args:\n",
      " |          state (str or Enum): value of setted state\n",
      " |  \n",
      " |  ----------------------------------------------------------------------\n",
      " |  Static methods defined here:\n",
      " |  \n",
      " |  resolve_callable(func, event_data)\n",
      " |      Converts a model's method name or a path to a callable into a callable.\n",
      " |          If func is not a string it will be returned unaltered.\n",
      " |      Args:\n",
      " |          func (str or callable): Method name or a path to a callable\n",
      " |          event_data (EventData): Currently processed event\n",
      " |      Returns:\n",
      " |          callable function resolved from string or func\n",
      " |  \n",
      " |  ----------------------------------------------------------------------\n",
      " |  Data descriptors defined here:\n",
      " |  \n",
      " |  __dict__\n",
      " |      dictionary for instance variables (if defined)\n",
      " |  \n",
      " |  __weakref__\n",
      " |      list of weak references to the object (if defined)\n",
      " |  \n",
      " |  after_state_change\n",
      " |      Callbacks executed after the transition has been conducted.\n",
      " |      Callbacks will be executed AFTER the custom callbacks assigned to the transition.\n",
      " |  \n",
      " |  before_state_change\n",
      " |      Callbacks executed after condition checks but before transition is conducted.\n",
      " |      Callbacks will be executed BEFORE the custom callbacks assigned to the transition.\n",
      " |  \n",
      " |  finalize_event\n",
      " |      Callbacks will be executed after all transitions callbacks have been executed.\n",
      " |      Callbacks mentioned here will also be called if a transition or condition check raised an error.\n",
      " |  \n",
      " |  has_queue\n",
      " |      Return boolean indicating if machine has queue or not\n",
      " |  \n",
      " |  initial\n",
      " |      Return the initial state.\n",
      " |  \n",
      " |  model\n",
      " |      List of models attached to the machine. For backwards compatibility, the property will\n",
      " |      return the model instance itself instead of the underlying list  if there is only one attached\n",
      " |      to the machine.\n",
      " |  \n",
      " |  prepare_event\n",
      " |      Callbacks executed when an event is triggered.\n",
      " |  \n",
      " |  ----------------------------------------------------------------------\n",
      " |  Data and other attributes defined here:\n",
      " |  \n",
      " |  event_cls = <class 'transitions.core.Event'>\n",
      " |      A collection of transitions assigned to the same trigger\n",
      " |  \n",
      " |  separator = '_'\n",
      " |  \n",
      " |  state_cls = <class 'transitions.core.State'>\n",
      " |      A persistent representation of a state managed by a ``Machine``.\n",
      " |      \n",
      " |      Attributes:\n",
      " |          name (str): State name which is also assigned to the model(s).\n",
      " |          on_enter (list): Callbacks executed when a state is entered.\n",
      " |          on_exit (list): Callbacks executed when a state is exited.\n",
      " |          ignore_invalid_triggers (bool): Indicates if unhandled/invalid triggers should raise an exception.\n",
      " |  \n",
      " |  transition_cls = <class 'transitions.core.Transition'>\n",
      " |      Representation of a transition managed by a ``Machine`` instance.\n",
      " |      \n",
      " |      Attributes:\n",
      " |          source (str): Source state of the transition.\n",
      " |          dest (str): Destination state of the transition.\n",
      " |          prepare (list): Callbacks executed before conditions checks.\n",
      " |          conditions (list): Callbacks evaluated to determine if\n",
      " |              the transition should be executed.\n",
      " |          before (list): Callbacks executed before the transition is executed\n",
      " |              but only if condition checks have been successful.\n",
      " |          after (list): Callbacks executed after the transition is executed\n",
      " |              but only if condition checks have been successful.\n",
      " |  \n",
      " |  wildcard_all = '*'\n",
      " |  \n",
      " |  wildcard_same = '='\n",
      "\n"
     ]
    }
   ],
   "source": [
    "from transitions import Machine\n",
    "\n",
    "help(Machine)"
   ]
  },
  {
   "cell_type": "markdown",
   "metadata": {},
   "source": [
    "这样的代码非常冗长和重复，难以维护且难以修改，设想一下，假设在上面的基础上再增加一个状态，要连带修改不确定几处地方，做完这样的修改还需要相应修改所有的测试用例，累就不说了，关键是容易出错。\n",
    "\n",
    "有限状态机实际上是这些“八股”的通用实现，然后提供一个非常简洁的接口供我们使用。有兴趣的话可以自己尝试用 Python 写一个 *FSM* 的实现出来，只做最基本功能的话也不是很难，但我们实际上没必要自己写，Python 有不少 *FSM* 的第三方实现，比如 [transitions](https://github.com/pytransitions/transitions) 这个库，我们下面就用它来演示一下上面的流程如何用 *FSM* 实现。\n",
    "\n",
    "运行下面的例子之前需要在命令行界面运行 `pip install transitions` 来安装这个库。也可以在 *notebook* 里打开一个新的 *cell* 直接输入 `!pip install transitions`，和在命令行运行的效果是一样的。"
   ]
  },
  {
   "cell_type": "code",
   "execution_count": 1,
   "metadata": {},
   "outputs": [],
   "source": [
    "from transitions import Machine\n",
    "\n",
    "class Order:\n",
    "    \n",
    "    states = ['created','paid','delivering','received','done','cancelling','returning','closed']\n",
    "    \n",
    "    def __init__(self,order_id):\n",
    "        self.order_id = order_id\n",
    "        \n",
    "        self.machine = Machine(model=self,states=Order.states,initial='created')\n",
    "        \n",
    "        \n",
    "        self.machine.add_transition(trigger='t_pay',source='created',dest='paid',before='payment_service')\n",
    "        self.machine.add_transition(trigger='t_deliver',source='paid',dest='delivering',after='notify_delivering')\n",
    "        self.machine.add_transition(trigger='t_receive',source='delivering',dest='received')\n",
    "        self.machine.add_transition(trigger='t_confirm',source='received',dest='done')\n",
    "        \n",
    "        self.machine.add_transition(trigger='t_cancel',source=['created','paid'],dest='cancelling')\n",
    "        self.machine.add_transition(trigger='t_return',source=['delivering','received'],dest='returning')\n",
    "        self.machine.add_transition(trigger='t_close',source=['cancelling','returning'],dest='closed')\n",
    "        \n",
    "    def payment_service(self):\n",
    "        print('支付服务申请中……')\n",
    "        # 调用远程接口完成实际支付，如果失败可抛出异常，对应状态转换会终止（即，不会转换到 “paid” 状态）\n",
    "        return\n",
    "    \n",
    "    def notify_delivering(self):\n",
    "        print('已通知用户，商品配送中……')\n",
    "        return"
   ]
  },
  {
   "cell_type": "code",
   "execution_count": 32,
   "metadata": {},
   "outputs": [
    {
     "name": "stdout",
     "output_type": "stream",
     "text": [
      "支付服务申请中……\n",
      "已通知用户，商品配送中……\n"
     ]
    },
    {
     "data": {
      "text/plain": [
       "'done'"
      ]
     },
     "execution_count": 32,
     "metadata": {},
     "output_type": "execute_result"
    }
   ],
   "source": [
    "from IPython.core.interactiveshell import InteractiveShell\n",
    "InteractiveShell.ast_node_interactivety = 'all'\n",
    "\n",
    "Order1 = Order(1)\n",
    "Order1.state\n",
    "Order1.t_pay()\n",
    "Order1.state\n",
    "Order1.t_deliver()\n",
    "Order1.t_receive()\n",
    "Order1.t_confirm()\n",
    "Order1.state"
   ]
  },
  {
   "cell_type": "markdown",
   "metadata": {},
   "source": [
    "除了具体业务执行的代码，上面基本上完整实现了流程控制的部分，值得注意的是，借助 *FSM* 的实现，不仅简洁易懂，而且易于维护，假定我们需要对流程规则进行修改，或者在某些状态转换的前后添加一些操作，我们通常都只需要修改一处代码，而不用到处找那里还要改。\n",
    "\n",
    "顺便说一下， [transitions](https://github.com/pytransitions/transitions) 这个库还有不少强大的功能，有兴趣可以自行发掘下。"
   ]
  },
  {
   "cell_type": "markdown",
   "metadata": {},
   "source": [
    "## 小结"
   ]
  },
  {
   "cell_type": "markdown",
   "metadata": {},
   "source": [
    "本章介绍了重要的数据模型“有限状态机（*FSM*）”，需要理解其背后的现实世界模型、具体应用及其带来的好处。\n",
    "* *FSM* 是对程序中一组的状态进行管理的工具；\n",
    "* *FSM* 能够精简程序里的逻辑判断，我们只需要陈述规则，*FSM* 自动管理什么可以什么不可以；\n",
    "* 尝试体会和理解 *FSM* 背后的抽象思维方式，如果从特定问题中抽象出可以普遍应用的通用工具。"
   ]
  }
 ],
 "metadata": {
  "kernelspec": {
   "display_name": "Python 3",
   "language": "python",
   "name": "python3"
  },
  "language_info": {
   "codemirror_mode": {
    "name": "ipython",
    "version": 3
   },
   "file_extension": ".py",
   "mimetype": "text/x-python",
   "name": "python",
   "nbconvert_exporter": "python",
   "pygments_lexer": "ipython3",
   "version": "3.7.4"
  }
 },
 "nbformat": 4,
 "nbformat_minor": 4
}
